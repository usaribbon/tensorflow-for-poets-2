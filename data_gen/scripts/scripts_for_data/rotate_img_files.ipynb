{
 "cells": [
  {
   "cell_type": "code",
   "execution_count": 3,
   "metadata": {},
   "outputs": [],
   "source": [
    "import cv2\n",
    "import os\n",
    "from scipy import ndimage\n",
    "#from matplotlib import pyplot as plt\n",
    "\n",
    "#\n",
    "# 引数\n",
    "#\n",
    "\n",
    "dir_in='C:/Users/chekolart/Desktop/kabuto_dataset/rotated_data/normal'\n",
    "dir_out='C:/Users/chekolart/Desktop/kabuto_dataset/rotated_data/rotate_+00deg'\n",
    "deg=0 # 半時計回りが正の回転方向\n",
    "reshape_flg=False\n",
    "\n",
    "#\n",
    "# 実行\n",
    "#\n",
    "\n",
    "def check_img_size(f_img):\n",
    "    img = cv2.imread(f_img, cv2.IMREAD_UNCHANGED)\n",
    "    h_img = img.shape[0]\n",
    "    w_img = img.shape[1]\n",
    "    return h_img, w_img\n",
    "    \n",
    "if not os.path.exists(dir_out):\n",
    "    os.mkdir(dir_out)\n",
    "if deg < 0:\n",
    "    str_deg = '-'+str(-1*deg).zfill(2)\n",
    "else:\n",
    "    str_deg = '+'+str(deg).zfill(2)\n",
    "f_name_list=os.listdir(dir_in)\n",
    "\n",
    "h_img, w_img = check_img_size(os.path.join(dir_in, f_name_list[0]))\n",
    "\n",
    "for f_name in f_name_list:\n",
    "    if not f_name.endswith('.jpg'):\n",
    "        continue\n",
    "    f_path=os.path.join(dir_in, f_name)\n",
    "    img = cv2.imread(f_path, cv2.IMREAD_UNCHANGED)\n",
    "    if img.shape[0] != h_img or img.shape[1] != w_img:\n",
    "        print(f_path+', h_img:'+img.shape[0]+', w_img:'+img.shape[1])\n",
    "    rotated_img = ndimage.rotate(img, deg, reshape=reshape_flg)\n",
    "    #plt.imshow(rotated_img)\n",
    "    base_name,ext=os.path.splitext(f_name)\n",
    "    f_name=base_name+'_'+str_deg+ext\n",
    "    f_path_out=os.path.join(dir_out,f_name)\n",
    "    _=cv2.imwrite(f_path_out, rotated_img)\n",
    "    "
   ]
  },
  {
   "cell_type": "code",
   "execution_count": null,
   "metadata": {},
   "outputs": [],
   "source": []
  }
 ],
 "metadata": {
  "kernelspec": {
   "display_name": "Python 3",
   "language": "python",
   "name": "python3"
  },
  "language_info": {
   "codemirror_mode": {
    "name": "ipython",
    "version": 3
   },
   "file_extension": ".py",
   "mimetype": "text/x-python",
   "name": "python",
   "nbconvert_exporter": "python",
   "pygments_lexer": "ipython3",
   "version": "3.5.6"
  }
 },
 "nbformat": 4,
 "nbformat_minor": 2
}
