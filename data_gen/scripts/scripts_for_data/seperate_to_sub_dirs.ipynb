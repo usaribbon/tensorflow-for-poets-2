{
 "cells": [
  {
   "cell_type": "code",
   "execution_count": 5,
   "metadata": {},
   "outputs": [],
   "source": [
    "import os\n",
    "import shutil\n",
    "\n",
    "#\n",
    "# 引数の取得\n",
    "#\n",
    "\n",
    "dir_in='C:/Users/chekolart/Desktop/kabuto_dataset/rotated_data/all'\n",
    "dir_out='C:/Users/chekolart/Desktop/kabuto_dataset/classes'\n",
    "n_steps=8\n",
    "\n",
    "#\n",
    "# 実行\n",
    "#\n",
    "\n",
    "if not os.path.exists(dir_out):\n",
    "    os.mkdir(dir_out)\n",
    "\n",
    "sub_dirs=[]\n",
    "for i in range(n_steps):\n",
    "    str_step='step'+str(i+1).zfill(2)\n",
    "    sub_dir=os.path.join(dir_out, str_step)\n",
    "    if not os.path.exists(sub_dir):\n",
    "        os.mkdir(sub_dir)\n",
    "    sub_dirs.append(sub_dir)\n",
    "\n",
    "f_name_list=os.listdir(dir_in)\n",
    "for f_name in f_name_list:\n",
    "    tokens = f_name.split('_')\n",
    "    step = int(tokens[2])\n",
    "    f_path = os.path.join(dir_in, f_name)\n",
    "    f_path_out = os.path.join(sub_dirs[step-1], f_name)\n",
    "    shutil.copy2(f_path, f_path_out)"
   ]
  },
  {
   "cell_type": "code",
   "execution_count": null,
   "metadata": {},
   "outputs": [],
   "source": []
  }
 ],
 "metadata": {
  "kernelspec": {
   "display_name": "Python 3",
   "language": "python",
   "name": "python3"
  },
  "language_info": {
   "codemirror_mode": {
    "name": "ipython",
    "version": 3
   },
   "file_extension": ".py",
   "mimetype": "text/x-python",
   "name": "python",
   "nbconvert_exporter": "python",
   "pygments_lexer": "ipython3",
   "version": "3.5.6"
  }
 },
 "nbformat": 4,
 "nbformat_minor": 2
}
